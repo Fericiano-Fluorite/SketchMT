{
 "cells": [
  {
   "cell_type": "markdown",
   "id": "09b96a65",
   "metadata": {},
   "source": [
    "# Sketching MT Framework"
   ]
  },
  {
   "cell_type": "code",
   "execution_count": 1,
   "id": "b8a2a508",
   "metadata": {},
   "outputs": [],
   "source": [
    "from sketchMT import *\n",
    "import readMergeTree as rmt\n",
    "import os\n",
    "import networkx as nx\n",
    "from weighted_hierarchy_pos import *"
   ]
  },
  {
   "cell_type": "markdown",
   "id": "1a8460f2",
   "metadata": {},
   "source": [
    "## Data Input "
   ]
  },
  {
   "cell_type": "markdown",
   "id": "d510d81b",
   "metadata": {},
   "source": [
    "This is an example to read our preset datasets. Our merge tree data is split into two files: ``treeEdges_monoMesh_*.txt`` and ``treeNodes_monoMesh_*.txt``, representing the data for tree edges and tree nodes, respectively.\n",
    "\n",
    "To read your own dataset, your tree data should be saved in a ``nx.Graph`` object, in which each node has properties for its spacial coordinates (e.g., \"x\", \"y\"), its scalar value (e.g., \"height\"), and its critical type (0: minimum, 1: saddle, 2: maximum. This setting cannot be changed). \n",
    "Besides, you also need to provide the node id for the root node of the tree.\n",
    "\n",
    "The tree data should be stored in a ``GWMergeTree`` object.\n",
    "\n",
    "==========================================================\n",
    "\n",
    "Our tree edge data format:\n",
    "\n",
    "a_0, b_0  \n",
    "a_1, b_1  \n",
    "...  \n",
    "a_{|E|-1}, b_{|E|-1}\n",
    "\n",
    "Each row describes the indices of two nodes that the edge connecting in between. Edges are undirected.\n",
    "\n",
    "==========================================================\n",
    "\n",
    "Our tree node data format:\n",
    "\n",
    "x_0, y_0, z_0, scalar_0, type_0  \n",
    "x_1, y_1, z_1, scalar_1, type_1  \n",
    "...  \n",
    "x_{|V|-1}, y_{|V|-1}, z_{|V|-1}, scalar_{|V|-1}, type_{|V|-1}\n",
    "\n",
    "Each row has five components: the \"x\", \"y\", \"z\" coordinates, the scalar value, and the critical point type for the node.\n"
   ]
  },
  {
   "cell_type": "code",
   "execution_count": 2,
   "id": "e54b0f27",
   "metadata": {
    "scrolled": true
   },
   "outputs": [],
   "source": [
    "# dataset choices: [\"HeatedCylinder\", \"CornerFlow\", \"VortexStreet\", \"VortexSlice\", \"RedSea\", \"HeatedFlowEnsemble\", \"MovingGaussian\"]\n",
    "dataset = \"CornerFlow\"\n",
    "dataset_path = os.path.join(\"data\", dataset)\n",
    "\n",
    "\n",
    "mt_list = []\n",
    "root_list = []\n",
    "ranges_list = []\n",
    "for _, _, files in os.walk(dataset_path):\n",
    "\n",
    "    def key(s):\n",
    "        try:\n",
    "            int(s)\n",
    "            return int(s)\n",
    "        except ValueError:\n",
    "            return len(files) + 1\n",
    "\n",
    "    def endsWithTxt(s: str):\n",
    "        if s.endswith(\".txt\"):\n",
    "            return True\n",
    "        return False\n",
    "\n",
    "    txt_files = list(filter(endsWithTxt, files))\n",
    "    if dataset == \"HeatedFlowEnsemble\":\n",
    "        txt_files.sort(key=lambda x: (key(x.split(\"_\")[1].replace(\"monoMesh\",\"\")), key(x.split(\".\")[0].split(\"_\")[-1])))\n",
    "    else:\n",
    "        txt_files.sort(key=lambda x: key(x.split(\".\")[0].split(\"_\")[-1]))\n",
    "    \n",
    "    # You need to specify the root node type. Choices: [\"minimum\", \"maximum\"]\n",
    "    # (Avoid specifying merge tree type to avoid confusion between split tree and join tree in different contexts)\n",
    "    for file in txt_files:\n",
    "        trees, roots, ranges = rmt.get_trees(os.path.join(dataset_path, file), root_type=\"minimum\")\n",
    "        mt_list.extend(trees)\n",
    "        root_list.extend(roots)\n",
    "        ranges_list.extend(ranges)\n",
    "\n",
    "assert (len(root_list) == len(mt_list))\n",
    "gwmt_list = [GWMergeTree(mt_list[i], root_list[i]) for i in range(len(mt_list))]"
   ]
  },
  {
   "cell_type": "markdown",
   "id": "f7ccc809",
   "metadata": {},
   "source": [
    "## Parameter Initialization\n",
    "\n",
    "We now specify the parameters to be passed to the GW Sketching framework, including the following:\n",
    "\n",
    "*scalar_name*: the name of the scalar field in GWMergeTree objects.\n",
    "\n",
    "*edge_weight_name*: the name of the weight of edges in GWMergeTree objects.\n",
    "\n",
    "*weight_mode*: the strategy to encode $W$. Choices: [\"shortestpath\", \"lca\"].\n",
    "\n",
    "*prob_distribution*: the strategy to encode $p$. Choices: [\"uniform\", \"ancestor\"]"
   ]
  },
  {
   "cell_type": "code",
   "execution_count": 3,
   "id": "50574dc7",
   "metadata": {},
   "outputs": [],
   "source": [
    "scalar_name_dict = {\n",
    "    \"HeatedCylinder\": \"height\",\n",
    "    \"HeatedFlowEnsemble\": \"height\",\n",
    "    \"RedSea\": \"height\",\n",
    "    \"VortexStreet\": \"height\",\n",
    "    \"VortexSlice\": \"height\",\n",
    "    \"CornerFlow\": \"height\",\n",
    "    \"MovingGaussian\": \"height\",\n",
    "}\n",
    "\n",
    "edge_weight_name_dict = {\n",
    "    \"HeatedCylinder\": \"weight\",\n",
    "    \"HeatedFlowEnsemble\": \"weight\",\n",
    "    \"RedSea\": \"weight\",\n",
    "    \"VortexStreet\": \"weight\",\n",
    "    \"VortexSlice\": \"weight\",\n",
    "    \"CornerFlow\": \"weight\",\n",
    "    \"MovingGaussian\": \"weight\",\n",
    "}\n",
    "\n",
    "budget_dict = {\n",
    "    \"HeatedCylinder\": 2,\n",
    "    \"HeatedFlowEnsemble\": 3,\n",
    "    \"RedSea\": 3,\n",
    "    \"VortexStreet\": 3,\n",
    "    \"VortexSlice\": 3,\n",
    "    \"CornerFlow\": 3,\n",
    "    \"MovingGaussian\": 2,\n",
    "}\n",
    "lambda_pers_dict = {\n",
    "    \"HeatedCylinder\": 0.06,\n",
    "}"
   ]
  },
  {
   "cell_type": "code",
   "execution_count": 4,
   "id": "8d9819ff",
   "metadata": {},
   "outputs": [],
   "source": [
    "# weight_modes = [\"shortestpath\", \"lca\"]\n",
    "weight_mode = \"shortestpath\"\n",
    "# weight_mode = \"lca\"\n",
    "\n",
    "# prob_distributions = [\"uniform\", \"ancestor\"]\n",
    "prob_distribution = \"uniform\"\n",
    "# coupling_reordering = True\n",
    "\n",
    "scalar_name = scalar_name_dict[dataset]\n",
    "edge_weight_name = edge_weight_name_dict[dataset]\n",
    "budget = budget_dict[dataset]\n",
    "lambda_pers = lambda_pers_dict[dataset] * max(ranges_list)"
   ]
  },
  {
   "cell_type": "code",
   "execution_count": 5,
   "id": "305bea04",
   "metadata": {},
   "outputs": [],
   "source": [
    "# Validify the GWMergeTree object. This is not mandatory, but recommended to check whether your data input format is correct\n",
    "for tree in gwmt_list:\n",
    "    tree.label_validation([], scalar_name, edge_weight_name)"
   ]
  },
  {
   "cell_type": "code",
   "execution_count": 6,
   "id": "caed2719",
   "metadata": {},
   "outputs": [],
   "source": [
    "trees_path = os.path.join(\"tree-instances\", dataset)\n",
    "os.makedirs(trees_path, exist_ok=True)\n",
    "\n",
    "if not os.path.exists(os.path.join(trees_path, \"tree-000.jpg\")):\n",
    "    for i, t in enumerate(gwmt_list):\n",
    "        plt.figure(figsize=(10, 10))\n",
    "        nx.draw_networkx(t.tree, pos=weighted_hierarchy_pos(t.tree, root=t.root))\n",
    "        plt.title(\"Tree-{} (root={})\".format(str(i), str(t.root)))\n",
    "        plt.savefig(fname= os.path.join(trees_path, \"tree-\" + str(i).zfill(3) + \".jpg\"))\n",
    "        plt.close()"
   ]
  },
  {
   "cell_type": "markdown",
   "id": "d37304c4",
   "metadata": {},
   "source": [
    "## Framework Initialization\n",
    "\n",
    "Initializing the SketchMT framework with given parameters and data input. \n",
    "\n",
    "The following items are completed in this step:\n",
    "- Compute Frechet Mean\n",
    "- Compute blowup matrix for each instance\n",
    "- Vectorize blowup matrix"
   ]
  },
  {
   "cell_type": "code",
   "execution_count": 7,
   "id": "ddd9de2f",
   "metadata": {},
   "outputs": [],
   "source": [
    "retest=False"
   ]
  },
  {
   "cell_type": "code",
   "execution_count": 8,
   "id": "80fe6301",
   "metadata": {
    "scrolled": true
   },
   "outputs": [
    {
     "name": "stdout",
     "output_type": "stream",
     "text": [
      "Max Tree Size, ID = 18, 30\n",
      "Computing Frechet Mean...\n",
      "budget = 36\n",
      "Computing Frechet Mean Done\n",
      "Computing Blowups...\n",
      "Computing Blowups Done\n",
      "Getting Trees Vectors...\n",
      "Getting Trees Vectors Done\n"
     ]
    }
   ],
   "source": [
    "sketchmt = SketchMT(\n",
    "    gwmt_list,\n",
    "    dataset, \n",
    "    scalar_name,\n",
    "    edge_weight_name,\n",
    "    weight_mode,\n",
    "    prob_distribution,\n",
    "    budget,\n",
    "    retest=retest,\n",
    "    GWIteration=50,\n",
    "    lambda_persistence=lambda_pers,\n",
    ")"
   ]
  },
  {
   "cell_type": "markdown",
   "id": "96960dce",
   "metadata": {},
   "source": [
    "## Applying Sketching Techniques\n",
    "\n",
    "In our framework, We focus on the column subset selection (CSS) techniques for sketching. The selected column corresponds to the basis merge tree."
   ]
  },
  {
   "cell_type": "code",
   "execution_count": 9,
   "id": "9ca05f7a",
   "metadata": {},
   "outputs": [],
   "source": [
    "sketching_modes = [\"CSS-IFS\", \"CSS-LSS\"]\n",
    "num_basis = list(range(2, 10))"
   ]
  },
  {
   "cell_type": "code",
   "execution_count": 10,
   "id": "c0a5e59e",
   "metadata": {},
   "outputs": [
    {
     "name": "stdout",
     "output_type": "stream",
     "text": [
      "Sketching:  2\n",
      "Sketching:  3\n",
      "Sketching:  4\n",
      "Sketching:  5\n",
      "Sketching:  6\n",
      "Sketching:  7\n",
      "Sketching:  8\n",
      "Sketching:  9\n",
      "Sketching:  2\n",
      "Sketching:  3\n",
      "Sketching:  4\n",
      "Sketching:  5\n",
      "Sketching:  6\n",
      "Sketching:  7\n",
      "Sketching:  8\n",
      "Sketching:  9\n"
     ]
    },
    {
     "name": "stderr",
     "output_type": "stream",
     "text": [
      "C:\\Users\\mingz\\AppData\\Local\\Temp\\ipykernel_5512\\2497241859.py:51: UserWarning: Matplotlib is currently using module://matplotlib_inline.backend_inline, which is a non-GUI backend, so cannot show the figure.\n",
      "  fig.show()\n"
     ]
    }
   ],
   "source": [
    "colors = {\"CSS-IFS\": \"green\", \"CSS-LSS\": \"blue\"} \n",
    "\n",
    "solve_marks_1 = []\n",
    "solve_names_1 = []\n",
    "solve_marks_2 = []\n",
    "solve_names_2 = []\n",
    "\n",
    "plt.figure(figsize=(12, 6))\n",
    "\n",
    "for mode in sketching_modes:\n",
    "    sketch_losses, H0s, selected_indices, GW_losses = sketchmt.sketching(mode, num_basis)\n",
    "    sum_sketch_losses = [np.sum(x) for x in sketch_losses]\n",
    "    sum_GW_losses = [np.sum(x) for x in GW_losses]\n",
    "    \n",
    "    # we can plot a curve for the sum of the sketch loss. The elbow point of the curve indicates the optimal num of basis\n",
    "    ax1 = plt.subplot(121)\n",
    "    plt.xlabel(\"Number of Basis\")\n",
    "    plt.ylabel(\"Sketch error\")\n",
    "    mark, = plt.plot(num_basis, sum_sketch_losses, color=colors[mode], linewidth=4)\n",
    "    solve_marks_1.append(mark)\n",
    "    solve_names_1.append(mode)\n",
    "    \n",
    "    ax2 = plt.subplot(122)\n",
    "    plt.xlabel(\"Number of Basis\")\n",
    "    plt.ylabel(\"GW loss\")\n",
    "    mark, = plt.plot(num_basis, sum_GW_losses, color=colors[mode], linewidth=4)\n",
    "    solve_marks_2.append(mark)\n",
    "    solve_names_2.append(mode)\n",
    "    \n",
    "    # save selected indices for each setting\n",
    "    for e, num in enumerate(num_basis):\n",
    "        selected_idx_settings = [\"selected-basis\", dataset, weight_mode, mode, str(num)]\n",
    "        selected_idx_path = os.path.join(\".\", \"/\".join(selected_idx_settings))\n",
    "        os.makedirs(selected_idx_path, exist_ok=True)\n",
    "        \n",
    "        np.savetxt(os.path.join(selected_idx_path, \"selected-idx.txt\"), selected_indices[e], delimiter=\",\")\n",
    "        for idx in selected_indices[e]:\n",
    "            plt.figure(figsize=(10, 10))\n",
    "            nx.draw_networkx(sketchmt.trees[idx], pos=weighted_hierarchy_pos(sketchmt.trees[idx], root=sketchmt.roots[idx]))\n",
    "            plt.title(\"Tree-{} (root={})\".format(str(idx), str(sketchmt.roots[idx])))\n",
    "            plt.savefig(fname= os.path.join(selected_idx_path, \"tree-\" + str(idx).zfill(3) + \".jpg\"))\n",
    "            plt.close()\n",
    "        \n",
    "        draw_H(H0s[e], selected_idx_path)\n",
    "        draw_H(sketch_losses[e].reshape(1, -1), selected_idx_path, False)\n",
    "        np.savetxt(os.path.join(selected_idx_path, \"coefficient-matrix.txt\"), H0s[e])\n",
    "    \n",
    "ax1.legend(solve_marks_1, solve_names_1)\n",
    "ax2.legend(solve_marks_2, solve_names_2)\n",
    "fig = plt.gcf()\n",
    "fig.show()\n",
    "\n",
    "loss_curve_settings = [\"loss-curve\", dataset]\n",
    "loss_curve_path = os.path.join(\".\", \"/\".join(loss_curve_settings))\n",
    "os.makedirs(loss_curve_path, exist_ok=True)\n",
    "fig.savefig(os.path.join(loss_curve_path, \"sketch-error-{}\".format(weight_mode)))\n",
    "plt.close()"
   ]
  },
  {
   "cell_type": "code",
   "execution_count": null,
   "id": "d39cd199",
   "metadata": {},
   "outputs": [],
   "source": []
  }
 ],
 "metadata": {
  "kernelspec": {
   "display_name": "Python 3 (ipykernel)",
   "language": "python",
   "name": "python3"
  },
  "language_info": {
   "codemirror_mode": {
    "name": "ipython",
    "version": 3
   },
   "file_extension": ".py",
   "mimetype": "text/x-python",
   "name": "python",
   "nbconvert_exporter": "python",
   "pygments_lexer": "ipython3",
   "version": "3.9.13"
  }
 },
 "nbformat": 4,
 "nbformat_minor": 5
}
